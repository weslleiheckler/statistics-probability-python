{
 "cells": [
  {
   "cell_type": "markdown",
   "id": "18a23f84-bebc-440f-a685-3d98b624f636",
   "metadata": {},
   "source": [
    "### Importing libraries"
   ]
  },
  {
   "cell_type": "code",
   "execution_count": 1,
   "id": "b56c8b39-4b13-45ac-840d-d004fd853cdd",
   "metadata": {},
   "outputs": [],
   "source": [
    "from scipy.stats import binom"
   ]
  },
  {
   "cell_type": "markdown",
   "id": "9f20dd70-e737-401d-8c2b-9e4caa420878",
   "metadata": {},
   "source": [
    "### Binomial Distribution"
   ]
  },
  {
   "cell_type": "markdown",
   "id": "b36a19f2-f087-46ff-8f00-ee57c0d881b0",
   "metadata": {},
   "source": [
    "What is the probability of launching a coin 5 times and getting head 3 times?"
   ]
  },
  {
   "cell_type": "code",
   "execution_count": 2,
   "id": "681277e4-4799-4809-98a3-44c9507321d9",
   "metadata": {},
   "outputs": [
    {
     "data": {
      "text/plain": [
       "0.31249999999999983"
      ]
     },
     "execution_count": 2,
     "metadata": {},
     "output_type": "execute_result"
    }
   ],
   "source": [
    "binom.pmf(3, 5, 0.5)"
   ]
  },
  {
   "cell_type": "markdown",
   "id": "e81c4ee7-7f90-4c70-812f-732c6e165178",
   "metadata": {},
   "source": [
    "What is the probability of passing in 4 traffic lights of 4 periods and getting 4 green signals?"
   ]
  },
  {
   "cell_type": "code",
   "execution_count": 3,
   "id": "4d83dc35-7bf0-452e-af9d-57ddc186d63f",
   "metadata": {},
   "outputs": [
    {
     "data": {
      "text/plain": [
       "1.0000000000000002"
      ]
     },
     "execution_count": 3,
     "metadata": {},
     "output_type": "execute_result"
    }
   ],
   "source": [
    "binom.pmf(0, 4, 0.25) + binom.pmf(1, 4, 0.25) + binom.pmf(2, 4, 0.25) + binom.pmf(3, 4, 0.25) + binom.pmf(4, 4, 0.25)"
   ]
  },
  {
   "cell_type": "markdown",
   "id": "276bc54f-d223-4307-a507-1421b2ee2504",
   "metadata": {},
   "source": [
    "And how about 2-period traffic lights?"
   ]
  },
  {
   "cell_type": "code",
   "execution_count": 5,
   "id": "a3d11bd9-197a-41ad-95d3-c547511575a7",
   "metadata": {},
   "outputs": [
    {
     "data": {
      "text/plain": [
       "0.0625"
      ]
     },
     "execution_count": 5,
     "metadata": {},
     "output_type": "execute_result"
    }
   ],
   "source": [
    "binom.pmf(4, 4, 0.5)"
   ]
  },
  {
   "cell_type": "markdown",
   "id": "2de8b282-ad00-4d63-a327-d65e79077f61",
   "metadata": {},
   "source": [
    "Cumulative probability."
   ]
  },
  {
   "cell_type": "code",
   "execution_count": 6,
   "id": "66c0b23d-2c22-4166-a30d-de0ccd98f069",
   "metadata": {},
   "outputs": [
    {
     "data": {
      "text/plain": [
       "1.0"
      ]
     },
     "execution_count": 6,
     "metadata": {},
     "output_type": "execute_result"
    }
   ],
   "source": [
    "binom.cdf(4, 4, 0.25)"
   ]
  },
  {
   "cell_type": "markdown",
   "id": "51864ec2-934e-4804-952d-7f1487cfcf5e",
   "metadata": {},
   "source": [
    "What is the probability of getting 7 questions right in a test with 12 questions, considering that each question has 4 alternatives?"
   ]
  },
  {
   "cell_type": "code",
   "execution_count": 7,
   "id": "e019a042-361b-4f06-bc4b-1d6aad23ed5c",
   "metadata": {},
   "outputs": [
    {
     "data": {
      "text/plain": [
       "0.011471271514892587"
      ]
     },
     "execution_count": 7,
     "metadata": {},
     "output_type": "execute_result"
    }
   ],
   "source": [
    "binom.pmf(7, 12, 0.25)"
   ]
  },
  {
   "cell_type": "markdown",
   "id": "0b03e55f-1e03-466c-8fb9-488e1d2f9b3f",
   "metadata": {},
   "source": [
    "And the probability of getting 12 questions right?"
   ]
  },
  {
   "cell_type": "code",
   "execution_count": 8,
   "id": "424746e6-7e0c-4c33-aa44-3cfcd545f212",
   "metadata": {},
   "outputs": [
    {
     "data": {
      "text/plain": [
       "5.960464477539063e-08"
      ]
     },
     "execution_count": 8,
     "metadata": {},
     "output_type": "execute_result"
    }
   ],
   "source": [
    "binom.pmf(12, 12, 0.25)"
   ]
  },
  {
   "cell_type": "code",
   "execution_count": null,
   "id": "d2987764-860d-4521-b0a7-9717525cab5e",
   "metadata": {},
   "outputs": [],
   "source": []
  }
 ],
 "metadata": {
  "kernelspec": {
   "display_name": "Python 3 (ipykernel)",
   "language": "python",
   "name": "python3"
  },
  "language_info": {
   "codemirror_mode": {
    "name": "ipython",
    "version": 3
   },
   "file_extension": ".py",
   "mimetype": "text/x-python",
   "name": "python",
   "nbconvert_exporter": "python",
   "pygments_lexer": "ipython3",
   "version": "3.9.6"
  }
 },
 "nbformat": 4,
 "nbformat_minor": 5
}
