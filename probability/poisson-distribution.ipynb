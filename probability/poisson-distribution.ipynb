{
 "cells": [
  {
   "cell_type": "markdown",
   "id": "e2fd2afa-41bc-4985-b464-e06bfa8d5a41",
   "metadata": {},
   "source": [
    "### Importing libraries"
   ]
  },
  {
   "cell_type": "code",
   "execution_count": 1,
   "id": "4d1089f9-0f93-46fe-888d-4708a41781bc",
   "metadata": {},
   "outputs": [],
   "source": [
    "from scipy.stats import poisson"
   ]
  },
  {
   "cell_type": "markdown",
   "id": "c0301ed4-c514-44a8-a5c2-6d4f42c89a66",
   "metadata": {},
   "source": [
    "### Poisson Distribution\n",
    "The mean of car crashes is 2 by day."
   ]
  },
  {
   "cell_type": "markdown",
   "id": "6d21668e-f87e-4f9e-a735-02ad92626078",
   "metadata": {},
   "source": [
    "What is the probability of happening 3 accidents on a specific day?"
   ]
  },
  {
   "cell_type": "code",
   "execution_count": 2,
   "id": "e725562c-a831-4e10-bd06-decbd6fb1e9c",
   "metadata": {},
   "outputs": [
    {
     "data": {
      "text/plain": [
       "0.18044704431548356"
      ]
     },
     "execution_count": 2,
     "metadata": {},
     "output_type": "execute_result"
    }
   ],
   "source": [
    "poisson.pmf(3, 2)"
   ]
  },
  {
   "cell_type": "markdown",
   "id": "080feba6-8354-4d8d-9b80-fd6a62b10519",
   "metadata": {},
   "source": [
    "What is the probability of happening 3 or fewer accidents on a specific day?"
   ]
  },
  {
   "cell_type": "code",
   "execution_count": 4,
   "id": "5a1b2101-f3ce-4536-a584-1faf1a9b2f13",
   "metadata": {},
   "outputs": [
    {
     "data": {
      "text/plain": [
       "0.857123460498547"
      ]
     },
     "execution_count": 4,
     "metadata": {},
     "output_type": "execute_result"
    }
   ],
   "source": [
    "poisson.cdf(3, 2)"
   ]
  },
  {
   "cell_type": "markdown",
   "id": "ffe0d621-0780-44fe-8d6d-22aca730a16d",
   "metadata": {},
   "source": [
    "What is the probability of happening more than 3 accidents on a specific day?"
   ]
  },
  {
   "cell_type": "code",
   "execution_count": 3,
   "id": "6f36d923-9447-4ee0-9dbb-3abb4a1526ca",
   "metadata": {},
   "outputs": [
    {
     "data": {
      "text/plain": [
       "0.14287653950145296"
      ]
     },
     "execution_count": 3,
     "metadata": {},
     "output_type": "execute_result"
    }
   ],
   "source": [
    "poisson.sf(3, 2)"
   ]
  },
  {
   "cell_type": "code",
   "execution_count": null,
   "id": "eb9f96a6-052b-4d71-b7c3-cda053771288",
   "metadata": {},
   "outputs": [],
   "source": []
  }
 ],
 "metadata": {
  "kernelspec": {
   "display_name": "Python 3 (ipykernel)",
   "language": "python",
   "name": "python3"
  },
  "language_info": {
   "codemirror_mode": {
    "name": "ipython",
    "version": 3
   },
   "file_extension": ".py",
   "mimetype": "text/x-python",
   "name": "python",
   "nbconvert_exporter": "python",
   "pygments_lexer": "ipython3",
   "version": "3.9.6"
  }
 },
 "nbformat": 4,
 "nbformat_minor": 5
}
