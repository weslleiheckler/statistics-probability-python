{
 "cells": [
  {
   "cell_type": "markdown",
   "id": "6d62226f-0bf7-405e-ad05-4070224a0b96",
   "metadata": {},
   "source": [
    "### Importing libraries"
   ]
  },
  {
   "cell_type": "code",
   "execution_count": 1,
   "id": "baa331be-e418-4eb8-8948-51368ba06c19",
   "metadata": {},
   "outputs": [],
   "source": [
    "from scipy.stats import t"
   ]
  },
  {
   "cell_type": "markdown",
   "id": "dca619e9-52c0-41e7-b4e8-fc2dd925cf42",
   "metadata": {},
   "source": [
    "### T-Student Distribution\n",
    "The mean of the Data Scientists' salary is R$ 75,00 by hour. The sample contains 9 individuals and the standard deviation is 10. "
   ]
  },
  {
   "cell_type": "markdown",
   "id": "9f5906e7-69bd-438a-822f-41f9caacc12c",
   "metadata": {},
   "source": [
    "What is the probability of selecting a data scientist whose salary is fewer than R$ 80,00 by hour?"
   ]
  },
  {
   "cell_type": "code",
   "execution_count": 2,
   "id": "eee99de1-2cf6-4dbd-a543-8a1948555284",
   "metadata": {},
   "outputs": [
    {
     "data": {
      "text/plain": [
       "0.9139983540240443"
      ]
     },
     "execution_count": 2,
     "metadata": {},
     "output_type": "execute_result"
    }
   ],
   "source": [
    "t.cdf(1.5, 8)"
   ]
  },
  {
   "cell_type": "markdown",
   "id": "2f86ecc7-8cf1-4f3a-bd9a-b06f29206817",
   "metadata": {},
   "source": [
    "What is the probability of selecting a data scientist whose salary is bigger than R$ 80,00 by hour?"
   ]
  },
  {
   "cell_type": "code",
   "execution_count": 3,
   "id": "ab97a4f1-a403-47c8-8528-38cb7a99da16",
   "metadata": {},
   "outputs": [
    {
     "data": {
      "text/plain": [
       "0.08600164597595565"
      ]
     },
     "execution_count": 3,
     "metadata": {},
     "output_type": "execute_result"
    }
   ],
   "source": [
    "# 1.5 is the value of T\n",
    "# 8 is the number of freedom degrees (9 - 1)\n",
    "t.sf(1.5, 8)"
   ]
  },
  {
   "cell_type": "markdown",
   "id": "0a9ca46f-efe8-46f7-b331-a0c9e1ab2448",
   "metadata": {},
   "source": [
    "What is the probability of happening the two previous events?"
   ]
  },
  {
   "cell_type": "code",
   "execution_count": 4,
   "id": "5ad19575-2ba9-4c10-b0bf-cba849245ff3",
   "metadata": {},
   "outputs": [
    {
     "data": {
      "text/plain": [
       "0.9999999999999999"
      ]
     },
     "execution_count": 4,
     "metadata": {},
     "output_type": "execute_result"
    }
   ],
   "source": [
    "t.cdf(1.5, 8) + t.sf(1.5, 8)"
   ]
  },
  {
   "cell_type": "code",
   "execution_count": null,
   "id": "3280d7e0-068a-4da0-8206-093f8f41712c",
   "metadata": {},
   "outputs": [],
   "source": []
  }
 ],
 "metadata": {
  "kernelspec": {
   "display_name": "Python 3 (ipykernel)",
   "language": "python",
   "name": "python3"
  },
  "language_info": {
   "codemirror_mode": {
    "name": "ipython",
    "version": 3
   },
   "file_extension": ".py",
   "mimetype": "text/x-python",
   "name": "python",
   "nbconvert_exporter": "python",
   "pygments_lexer": "ipython3",
   "version": "3.9.6"
  }
 },
 "nbformat": 4,
 "nbformat_minor": 5
}
