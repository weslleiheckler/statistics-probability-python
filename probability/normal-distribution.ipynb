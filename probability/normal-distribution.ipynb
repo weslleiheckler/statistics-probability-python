{
 "cells": [
  {
   "cell_type": "markdown",
   "id": "02a94178-81bb-4a78-bcab-b0fe6c32061a",
   "metadata": {},
   "source": [
    "### Importing libraries"
   ]
  },
  {
   "cell_type": "code",
   "execution_count": 1,
   "id": "be72d06e-51f4-4dba-9ced-b360dc0d1850",
   "metadata": {},
   "outputs": [],
   "source": [
    "from scipy.stats import norm"
   ]
  },
  {
   "cell_type": "markdown",
   "id": "dd2b4673-2794-4267-ae9b-4bd8783e9216",
   "metadata": {},
   "source": [
    "### Normal Distribution\n",
    "Considering a set of objects in a basket, the mean is 8 and the standard deviation is 2."
   ]
  },
  {
   "cell_type": "markdown",
   "id": "be569b95-4a29-4bfe-9074-bdeb36095323",
   "metadata": {},
   "source": [
    "What is the probability of taking an object whose weight is lesser than 6 kg?"
   ]
  },
  {
   "cell_type": "code",
   "execution_count": 2,
   "id": "b0286884-c8e1-4258-bf7b-860c46a1bc12",
   "metadata": {},
   "outputs": [
    {
     "data": {
      "text/plain": [
       "0.15865525393145707"
      ]
     },
     "execution_count": 2,
     "metadata": {},
     "output_type": "execute_result"
    }
   ],
   "source": [
    "norm.cdf(6, 8, 2)"
   ]
  },
  {
   "cell_type": "markdown",
   "id": "1ad64946-8282-4e66-b6de-38e60c201246",
   "metadata": {},
   "source": [
    "What is the probability of taking an object whose weight is bigger than 6 kg?"
   ]
  },
  {
   "cell_type": "code",
   "execution_count": 3,
   "id": "80ec7bb7-a341-4cf7-a29b-cb3b7231bfcd",
   "metadata": {},
   "outputs": [
    {
     "data": {
      "text/plain": [
       "0.8413447460685429"
      ]
     },
     "execution_count": 3,
     "metadata": {},
     "output_type": "execute_result"
    }
   ],
   "source": [
    "# it's possible to use the functions 'sf' and 'cdf' (1 - 'cdf')\n",
    "norm.sf(6, 8, 2)"
   ]
  },
  {
   "cell_type": "code",
   "execution_count": 4,
   "id": "095ff647-edbd-466a-a548-10e698265bc0",
   "metadata": {},
   "outputs": [
    {
     "data": {
      "text/plain": [
       "0.8413447460685429"
      ]
     },
     "execution_count": 4,
     "metadata": {},
     "output_type": "execute_result"
    }
   ],
   "source": [
    "1 - norm.cdf(6, 8, 2)"
   ]
  },
  {
   "cell_type": "markdown",
   "id": "bf8bf047-50f1-42dd-aae6-79a83690446a",
   "metadata": {},
   "source": [
    "What is the probability of taking an object whose weight is lesser than 6 kg or bigger than 6 kg?"
   ]
  },
  {
   "cell_type": "code",
   "execution_count": 5,
   "id": "a2c1f228-27bf-41d6-9c0e-dbb3b3495c8d",
   "metadata": {},
   "outputs": [
    {
     "data": {
      "text/plain": [
       "0.31731050786291415"
      ]
     },
     "execution_count": 5,
     "metadata": {},
     "output_type": "execute_result"
    }
   ],
   "source": [
    "norm.cdf(6, 8, 2) + norm.sf(10, 8, 2)"
   ]
  },
  {
   "cell_type": "markdown",
   "id": "908c5346-50ef-45ac-aeb9-e8726b71506f",
   "metadata": {},
   "source": [
    "What is the probability of taking an object whose weight is lesser than 10 kg and bigger than 8 kg?"
   ]
  },
  {
   "cell_type": "code",
   "execution_count": 6,
   "id": "f2aad20e-35b4-49c0-9dba-a4ea73338239",
   "metadata": {},
   "outputs": [
    {
     "data": {
      "text/plain": [
       "0.3413447460685429"
      ]
     },
     "execution_count": 6,
     "metadata": {},
     "output_type": "execute_result"
    }
   ],
   "source": [
    "norm.cdf(10, 8, 2) - norm.cdf(8, 8, 2)"
   ]
  },
  {
   "cell_type": "code",
   "execution_count": null,
   "id": "40d98587-7e7e-4c4c-b65a-2526ce5dbb7d",
   "metadata": {},
   "outputs": [],
   "source": []
  }
 ],
 "metadata": {
  "kernelspec": {
   "display_name": "Python 3 (ipykernel)",
   "language": "python",
   "name": "python3"
  },
  "language_info": {
   "codemirror_mode": {
    "name": "ipython",
    "version": 3
   },
   "file_extension": ".py",
   "mimetype": "text/x-python",
   "name": "python",
   "nbconvert_exporter": "python",
   "pygments_lexer": "ipython3",
   "version": "3.9.6"
  }
 },
 "nbformat": 4,
 "nbformat_minor": 5
}
