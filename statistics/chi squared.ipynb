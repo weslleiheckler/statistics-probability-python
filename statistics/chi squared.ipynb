{
 "cells": [
  {
   "cell_type": "markdown",
   "id": "1dca8c95-6fde-4744-b39b-23c4a1e462ed",
   "metadata": {},
   "source": [
    "### Importing libraries"
   ]
  },
  {
   "cell_type": "code",
   "execution_count": 1,
   "id": "34f04d60-a013-4ded-b08b-580a7a7cd616",
   "metadata": {},
   "outputs": [],
   "source": [
    "import numpy as np\n",
    "from scipy.stats import chi2_contingency"
   ]
  },
  {
   "cell_type": "markdown",
   "id": "1e488905-602a-4f4f-ab21-5e234bbf6555",
   "metadata": {},
   "source": [
    "### Chi-Squared\n",
    "In this example, the test assesses whether there is a significant difference among men and women that watch a movie. The matrix has the following structure:\n",
    "- Lines represent men and women, respectively;\n",
    "- Columns represent the features \"watch\" and \"don't watch\", respectively."
   ]
  },
  {
   "cell_type": "code",
   "execution_count": 2,
   "id": "4db62a27-3738-49c7-8f4b-c2e78c369cfc",
   "metadata": {},
   "outputs": [
    {
     "data": {
      "text/plain": [
       "array([[19,  6],\n",
       "       [43, 32]])"
      ]
     },
     "execution_count": 2,
     "metadata": {},
     "output_type": "execute_result"
    }
   ],
   "source": [
    "movie = np.array([[19, 6], [43, 32]])\n",
    "movie"
   ]
  },
  {
   "cell_type": "markdown",
   "id": "efbfa54b-4978-47ac-9c22-7f3435d1d169",
   "metadata": {},
   "source": [
    "Test execution."
   ]
  },
  {
   "cell_type": "code",
   "execution_count": 3,
   "id": "8ba89340-dcb8-47d4-a0c0-f3e31a760b84",
   "metadata": {},
   "outputs": [
    {
     "data": {
      "text/plain": [
       "(2.037351443123939,\n",
       " 0.15347667161786666,\n",
       " 1,\n",
       " array([[15.5,  9.5],\n",
       "        [46.5, 28.5]]))"
      ]
     },
     "execution_count": 3,
     "metadata": {},
     "output_type": "execute_result"
    }
   ],
   "source": [
    "# the second element is the p-value\n",
    "# the p-value is bigger than 0.05 and, therefore, there is no evidence of a significant difference\n",
    "# null hypothesis: there is no a significant difference\n",
    "chi2_contingency(movie)"
   ]
  },
  {
   "cell_type": "markdown",
   "id": "a0f75a90-ae3d-40c4-8023-1b108c4872d9",
   "metadata": {},
   "source": [
    "New matrix with new values."
   ]
  },
  {
   "cell_type": "code",
   "execution_count": 4,
   "id": "b8f08c27-d732-4283-840e-b841243baa3f",
   "metadata": {},
   "outputs": [
    {
     "data": {
      "text/plain": [
       "array([[22,  3],\n",
       "       [43, 32]])"
      ]
     },
     "execution_count": 4,
     "metadata": {},
     "output_type": "execute_result"
    }
   ],
   "source": [
    "movie2 = np.array([[22, 3], [43, 32]])\n",
    "movie2"
   ]
  },
  {
   "cell_type": "code",
   "execution_count": 5,
   "id": "38ee0bd2-bcf0-4524-9fd3-f2e877ed4f07",
   "metadata": {},
   "outputs": [
    {
     "data": {
      "text/plain": [
       "(6.461538461538461,\n",
       " 0.011023416388221425,\n",
       " 1,\n",
       " array([[16.25,  8.75],\n",
       "        [48.75, 26.25]]))"
      ]
     },
     "execution_count": 5,
     "metadata": {},
     "output_type": "execute_result"
    }
   ],
   "source": [
    "# in this scenario, the p-value is lesser than 0.05 and, therefore, it's possible to reject the null hypothesis\n",
    "# there is a significant difference\n",
    "chi2_contingency(movie2)"
   ]
  },
  {
   "cell_type": "code",
   "execution_count": null,
   "id": "ddfb6886-4bc2-4f01-aba4-928434efeb31",
   "metadata": {},
   "outputs": [],
   "source": []
  }
 ],
 "metadata": {
  "kernelspec": {
   "display_name": "Python 3 (ipykernel)",
   "language": "python",
   "name": "python3"
  },
  "language_info": {
   "codemirror_mode": {
    "name": "ipython",
    "version": 3
   },
   "file_extension": ".py",
   "mimetype": "text/x-python",
   "name": "python",
   "nbconvert_exporter": "python",
   "pygments_lexer": "ipython3",
   "version": "3.9.6"
  }
 },
 "nbformat": 4,
 "nbformat_minor": 5
}
