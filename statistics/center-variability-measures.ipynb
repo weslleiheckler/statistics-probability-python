{
 "cells": [
  {
   "cell_type": "markdown",
   "id": "bb3c378a-a653-407c-90bb-27e0fdd8e177",
   "metadata": {},
   "source": [
    "### Importing libraries"
   ]
  },
  {
   "cell_type": "code",
   "execution_count": 1,
   "id": "24653084-516e-4a0a-af90-53b8d906175f",
   "metadata": {},
   "outputs": [],
   "source": [
    "import numpy as np\n",
    "from scipy import stats"
   ]
  },
  {
   "cell_type": "markdown",
   "id": "d956184c-269a-4a19-a6f5-ec1cf70677d9",
   "metadata": {},
   "source": [
    "### Center and Variability Measures"
   ]
  },
  {
   "cell_type": "code",
   "execution_count": 2,
   "id": "6d046eae-1dd3-4de3-af17-13c3101998ce",
   "metadata": {},
   "outputs": [],
   "source": [
    "salaries = [40000, 18000, 12000, 250000, 30000, 140000, 300000, 40000, 800000]"
   ]
  },
  {
   "cell_type": "markdown",
   "id": "0c7ed3b2-33c6-4de2-b470-5483d258da74",
   "metadata": {},
   "source": [
    "#### Mean"
   ]
  },
  {
   "cell_type": "code",
   "execution_count": 3,
   "id": "79ed0fc1-0c05-41b2-aeac-6609295d1212",
   "metadata": {},
   "outputs": [
    {
     "data": {
      "text/plain": [
       "181111.11111111112"
      ]
     },
     "execution_count": 3,
     "metadata": {},
     "output_type": "execute_result"
    }
   ],
   "source": [
    "np.mean(salaries)"
   ]
  },
  {
   "cell_type": "markdown",
   "id": "197dee72-f96c-41f6-9cb2-525f5476fcf8",
   "metadata": {},
   "source": [
    "#### Median"
   ]
  },
  {
   "cell_type": "code",
   "execution_count": 4,
   "id": "c374c3cd-b768-4cee-b568-05094fefc86e",
   "metadata": {},
   "outputs": [
    {
     "data": {
      "text/plain": [
       "40000.0"
      ]
     },
     "execution_count": 4,
     "metadata": {},
     "output_type": "execute_result"
    }
   ],
   "source": [
    "np.median(salaries)"
   ]
  },
  {
   "cell_type": "markdown",
   "id": "d626c756-55a2-482d-a793-dc09ef2b6b6e",
   "metadata": {},
   "source": [
    "#### Quartiles"
   ]
  },
  {
   "cell_type": "code",
   "execution_count": 5,
   "id": "c8b94deb-32e0-4a77-809a-921a90d1b9f9",
   "metadata": {},
   "outputs": [
    {
     "data": {
      "text/plain": [
       "array([ 12000.,  30000.,  40000., 250000., 800000.])"
      ]
     },
     "execution_count": 5,
     "metadata": {},
     "output_type": "execute_result"
    }
   ],
   "source": [
    "quartiles = np.quantile(salaries, [0, 0.25, 0.5, 0.75, 1])\n",
    "quartiles"
   ]
  },
  {
   "cell_type": "markdown",
   "id": "8aa6ccf8-3962-435f-9408-456ab2983c50",
   "metadata": {},
   "source": [
    "#### Standard Deviation"
   ]
  },
  {
   "cell_type": "code",
   "execution_count": 6,
   "id": "9ec27f49-441b-4f46-9659-6d3ec46276b7",
   "metadata": {},
   "outputs": [
    {
     "data": {
      "text/plain": [
       "255307.87514511007"
      ]
     },
     "execution_count": 6,
     "metadata": {},
     "output_type": "execute_result"
    }
   ],
   "source": [
    "np.std(salaries, ddof=1)"
   ]
  },
  {
   "cell_type": "markdown",
   "id": "1653d481-7ec5-47ba-b3f4-d4c73f42cbfc",
   "metadata": {},
   "source": [
    "#### Detailed statistics using the scipy library"
   ]
  },
  {
   "cell_type": "code",
   "execution_count": 7,
   "id": "2e692d40-5aa5-429b-84e8-501ec402d0ac",
   "metadata": {},
   "outputs": [
    {
     "data": {
      "text/plain": [
       "DescribeResult(nobs=9, minmax=(12000, 800000), mean=181111.11111111112, variance=65182111111.11111, skewness=1.758635899846188, kurtosis=1.9572075427527729)"
      ]
     },
     "execution_count": 7,
     "metadata": {},
     "output_type": "execute_result"
    }
   ],
   "source": [
    "stats.describe(salaries)"
   ]
  },
  {
   "cell_type": "code",
   "execution_count": null,
   "id": "7c313aa7-595d-491c-9c91-5752f74dadfa",
   "metadata": {},
   "outputs": [],
   "source": []
  }
 ],
 "metadata": {
  "kernelspec": {
   "display_name": "Python 3 (ipykernel)",
   "language": "python",
   "name": "python3"
  },
  "language_info": {
   "codemirror_mode": {
    "name": "ipython",
    "version": 3
   },
   "file_extension": ".py",
   "mimetype": "text/x-python",
   "name": "python",
   "nbconvert_exporter": "python",
   "pygments_lexer": "ipython3",
   "version": "3.9.6"
  }
 },
 "nbformat": 4,
 "nbformat_minor": 5
}
